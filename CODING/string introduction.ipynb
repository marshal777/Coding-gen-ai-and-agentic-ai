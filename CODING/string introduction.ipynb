{
 "cells": [
  {
   "cell_type": "markdown",
   "id": "d69c8de4-1961-46f8-900b-ce596a7cc208",
   "metadata": {},
   "source": [
    "# 10th APRIL - FSDS, GENAI, AGENTIAI "
   ]
  },
  {
   "cell_type": "code",
   "execution_count": 1,
   "id": "11d99c27-9fe6-48db-98f5-fbad87dacb9c",
   "metadata": {},
   "outputs": [
    {
     "data": {
      "text/plain": [
       "9"
      ]
     },
     "execution_count": 1,
     "metadata": {},
     "output_type": "execute_result"
    }
   ],
   "source": [
    "9"
   ]
  },
  {
   "cell_type": "code",
   "execution_count": 2,
   "id": "dd915bc6-eaba-4a48-8f8f-603830f47431",
   "metadata": {},
   "outputs": [
    {
     "data": {
      "text/plain": [
       "18"
      ]
     },
     "execution_count": 2,
     "metadata": {},
     "output_type": "execute_result"
    }
   ],
   "source": [
    "9 + 9"
   ]
  },
  {
   "cell_type": "code",
   "execution_count": 3,
   "id": "84e6a0c0-e28b-4d79-a4e8-4cba6a209ef6",
   "metadata": {},
   "outputs": [
    {
     "data": {
      "text/plain": [
       "14"
      ]
     },
     "execution_count": 3,
     "metadata": {},
     "output_type": "execute_result"
    }
   ],
   "source": [
    "9 + 9 - (10 - 3) + 3"
   ]
  },
  {
   "cell_type": "code",
   "execution_count": 4,
   "id": "799f3ea9-2d44-4938-8ec6-0cf4af6da477",
   "metadata": {},
   "outputs": [
    {
     "data": {
      "text/plain": [
       "8"
      ]
     },
     "execution_count": 4,
     "metadata": {},
     "output_type": "execute_result"
    }
   ],
   "source": [
    "9 + 9 - 10 - 3 + 3"
   ]
  },
  {
   "cell_type": "markdown",
   "id": "666dd8a4-7162-47d4-a91f-0de9b559f171",
   "metadata": {},
   "source": [
    "# numbers are called as operand \n",
    "# +, - * are called operator"
   ]
  },
  {
   "cell_type": "markdown",
   "id": "a3135f9e-7476-47f0-bf94-93e8f3e58d98",
   "metadata": {},
   "source": [
    "# ARITHMETIC OPERATOR "
   ]
  },
  {
   "cell_type": "markdown",
   "id": "70c53e4b-a0a0-4a73-bad8-3e3baba0b3e3",
   "metadata": {},
   "source": [
    "- 1- ARITHMETIC OPERATOR ( + , -, *, /, %, %%, **)\n",
    "- 2- ASSIGNMEN OPERATOR (=)\n",
    "- 3- RELATIONAL OPERATOR\n",
    "- 4- LOGICAL OPERATOR\n",
    "- 5- UNARY OPERATOR"
   ]
  },
  {
   "cell_type": "code",
   "execution_count": 6,
   "id": "71fe18cb-d03f-4363-b439-c517b45c0c47",
   "metadata": {},
   "outputs": [
    {
     "data": {
      "text/plain": [
       "15"
      ]
     },
     "execution_count": 6,
     "metadata": {},
     "output_type": "execute_result"
    }
   ],
   "source": [
    "10 + 5"
   ]
  },
  {
   "cell_type": "code",
   "execution_count": 7,
   "id": "f513d1c7-72ed-4bb2-a871-86f347ce2b3d",
   "metadata": {},
   "outputs": [
    {
     "data": {
      "text/plain": [
       "5"
      ]
     },
     "execution_count": 7,
     "metadata": {},
     "output_type": "execute_result"
    }
   ],
   "source": [
    "10- 5"
   ]
  },
  {
   "cell_type": "code",
   "execution_count": 8,
   "id": "e6b4a85c-c385-49d6-989f-3125f3108570",
   "metadata": {},
   "outputs": [
    {
     "data": {
      "text/plain": [
       "50"
      ]
     },
     "execution_count": 8,
     "metadata": {},
     "output_type": "execute_result"
    }
   ],
   "source": [
    "10 * 5"
   ]
  },
  {
   "cell_type": "code",
   "execution_count": 9,
   "id": "7e962897-74f7-4d69-bdd9-85853ed1222b",
   "metadata": {},
   "outputs": [
    {
     "data": {
      "text/plain": [
       "20"
      ]
     },
     "execution_count": 9,
     "metadata": {},
     "output_type": "execute_result"
    }
   ],
   "source": [
    "10 * 2 # MULTIPLICATION "
   ]
  },
  {
   "cell_type": "code",
   "execution_count": 10,
   "id": "67d0026d-4de6-4e86-b435-3a409b4de5a3",
   "metadata": {},
   "outputs": [
    {
     "data": {
      "text/plain": [
       "100"
      ]
     },
     "execution_count": 10,
     "metadata": {},
     "output_type": "execute_result"
    }
   ],
   "source": [
    "10 ** 2  #POWER "
   ]
  },
  {
   "cell_type": "code",
   "execution_count": 11,
   "id": "1d11bf8c-5a8a-4269-889d-1c90d75d0be5",
   "metadata": {},
   "outputs": [
    {
     "ename": "SyntaxError",
     "evalue": "invalid syntax (2368405663.py, line 1)",
     "output_type": "error",
     "traceback": [
      "\u001b[1;36m  Cell \u001b[1;32mIn[11], line 1\u001b[1;36m\u001b[0m\n\u001b[1;33m    10 *** 2\u001b[0m\n\u001b[1;37m         ^\u001b[0m\n\u001b[1;31mSyntaxError\u001b[0m\u001b[1;31m:\u001b[0m invalid syntax\n"
     ]
    }
   ],
   "source": [
    "10 *** 2 "
   ]
  },
  {
   "cell_type": "code",
   "execution_count": 12,
   "id": "131de2ee-bf73-4efa-b59c-97c09bf969a2",
   "metadata": {},
   "outputs": [
    {
     "data": {
      "text/plain": [
       "2.0"
      ]
     },
     "execution_count": 12,
     "metadata": {},
     "output_type": "execute_result"
    }
   ],
   "source": [
    "10 / 5 # FLOAT DIVISION "
   ]
  },
  {
   "cell_type": "code",
   "execution_count": 13,
   "id": "56dc75da-0ef1-410e-981d-ca6eb75e3227",
   "metadata": {},
   "outputs": [
    {
     "data": {
      "text/plain": [
       "2"
      ]
     },
     "execution_count": 13,
     "metadata": {},
     "output_type": "execute_result"
    }
   ],
   "source": [
    "10 // 5 # int division "
   ]
  },
  {
   "cell_type": "code",
   "execution_count": 14,
   "id": "f0a939b9-7d57-4e96-a590-fe2b9511f9f0",
   "metadata": {},
   "outputs": [
    {
     "data": {
      "text/plain": [
       "0"
      ]
     },
     "execution_count": 14,
     "metadata": {},
     "output_type": "execute_result"
    }
   ],
   "source": [
    "10 % 5"
   ]
  },
  {
   "cell_type": "code",
   "execution_count": 15,
   "id": "63119534-0b73-4aa6-a28c-5caca7f9d9f2",
   "metadata": {},
   "outputs": [
    {
     "data": {
      "text/plain": [
       "3"
      ]
     },
     "execution_count": 15,
     "metadata": {},
     "output_type": "execute_result"
    }
   ],
   "source": [
    "15 % 6"
   ]
  },
  {
   "cell_type": "code",
   "execution_count": 20,
   "id": "a9df1c0f-6363-41d8-a952-d3794bbefe02",
   "metadata": {},
   "outputs": [
    {
     "ename": "SyntaxError",
     "evalue": "invalid syntax (3520989292.py, line 1)",
     "output_type": "error",
     "traceback": [
      "\u001b[1;36m  Cell \u001b[1;32mIn[20], line 1\u001b[1;36m\u001b[0m\n\u001b[1;33m    15 %% 6\u001b[0m\n\u001b[1;37m        ^\u001b[0m\n\u001b[1;31mSyntaxError\u001b[0m\u001b[1;31m:\u001b[0m invalid syntax\n"
     ]
    }
   ],
   "source": [
    "15 %% 6"
   ]
  },
  {
   "cell_type": "code",
   "execution_count": 16,
   "id": "13e8b157-9584-4c55-9f80-50d5e30cb3be",
   "metadata": {},
   "outputs": [
    {
     "data": {
      "text/plain": [
       "2.5"
      ]
     },
     "execution_count": 16,
     "metadata": {},
     "output_type": "execute_result"
    }
   ],
   "source": [
    "15 / 6"
   ]
  },
  {
   "cell_type": "code",
   "execution_count": 17,
   "id": "25547178-797b-4a18-9cfb-447087f199ae",
   "metadata": {},
   "outputs": [
    {
     "data": {
      "text/plain": [
       "2"
      ]
     },
     "execution_count": 17,
     "metadata": {},
     "output_type": "execute_result"
    }
   ],
   "source": [
    "15 // 6"
   ]
  },
  {
   "cell_type": "markdown",
   "id": "a59b92ba-2f8f-4f7f-b5eb-62ac9e2c2561",
   "metadata": {},
   "source": [
    "# Assignment operator "
   ]
  },
  {
   "cell_type": "code",
   "execution_count": 28,
   "id": "f9bfa576-1abd-45c5-b90a-c5186eedb04b",
   "metadata": {},
   "outputs": [
    {
     "data": {
      "text/plain": [
       "10"
      ]
     },
     "execution_count": 28,
     "metadata": {},
     "output_type": "execute_result"
    }
   ],
   "source": [
    "x = 10 \n",
    "x\n",
    "# x is called variable or object or identifier "
   ]
  },
  {
   "cell_type": "code",
   "execution_count": 29,
   "id": "ca64e0a1-e3ec-4202-adca-c5ca705970f1",
   "metadata": {},
   "outputs": [
    {
     "data": {
      "text/plain": [
       "12"
      ]
     },
     "execution_count": 29,
     "metadata": {},
     "output_type": "execute_result"
    }
   ],
   "source": [
    "x + 2"
   ]
  },
  {
   "cell_type": "code",
   "execution_count": 30,
   "id": "a8b03298-6199-45bc-b1ea-f52e3d3ddee2",
   "metadata": {},
   "outputs": [
    {
     "data": {
      "text/plain": [
       "12"
      ]
     },
     "execution_count": 30,
     "metadata": {},
     "output_type": "execute_result"
    }
   ],
   "source": [
    "x + 2"
   ]
  },
  {
   "cell_type": "code",
   "execution_count": 31,
   "id": "40a4a58b-760f-4d93-953d-19b83aeb8cd1",
   "metadata": {},
   "outputs": [
    {
     "data": {
      "text/plain": [
       "12"
      ]
     },
     "execution_count": 31,
     "metadata": {},
     "output_type": "execute_result"
    }
   ],
   "source": [
    "x + 2"
   ]
  },
  {
   "cell_type": "code",
   "execution_count": 32,
   "id": "bf984a1b-b847-46e6-8e61-d666e111ecaf",
   "metadata": {},
   "outputs": [
    {
     "data": {
      "text/plain": [
       "12"
      ]
     },
     "execution_count": 32,
     "metadata": {},
     "output_type": "execute_result"
    }
   ],
   "source": [
    "x + 2"
   ]
  },
  {
   "cell_type": "code",
   "execution_count": 35,
   "id": "623461b2-4a58-4198-8512-c86dc6c1b0c7",
   "metadata": {},
   "outputs": [
    {
     "data": {
      "text/plain": [
       "14"
      ]
     },
     "execution_count": 35,
     "metadata": {},
     "output_type": "execute_result"
    }
   ],
   "source": [
    "x += 2\n",
    "x"
   ]
  },
  {
   "cell_type": "code",
   "execution_count": 36,
   "id": "b33943e5-eb38-420b-848a-5b8cc862e512",
   "metadata": {},
   "outputs": [
    {
     "data": {
      "text/plain": [
       "16"
      ]
     },
     "execution_count": 36,
     "metadata": {},
     "output_type": "execute_result"
    }
   ],
   "source": [
    "x += 2\n",
    "x"
   ]
  },
  {
   "cell_type": "code",
   "execution_count": 37,
   "id": "20ac9643-40f7-4962-9064-1706afc45483",
   "metadata": {},
   "outputs": [
    {
     "data": {
      "text/plain": [
       "18"
      ]
     },
     "execution_count": 37,
     "metadata": {},
     "output_type": "execute_result"
    }
   ],
   "source": [
    "x += 2\n",
    "x"
   ]
  },
  {
   "cell_type": "code",
   "execution_count": 38,
   "id": "ce4fa972-070e-4305-9fcc-7730b3d0fe5c",
   "metadata": {},
   "outputs": [
    {
     "data": {
      "text/plain": [
       "20"
      ]
     },
     "execution_count": 38,
     "metadata": {},
     "output_type": "execute_result"
    }
   ],
   "source": [
    "x += 2\n",
    "x"
   ]
  },
  {
   "cell_type": "code",
   "execution_count": 39,
   "id": "2e2afbf5-9696-422c-99de-946c23ed3123",
   "metadata": {},
   "outputs": [
    {
     "data": {
      "text/plain": [
       "20"
      ]
     },
     "execution_count": 39,
     "metadata": {},
     "output_type": "execute_result"
    }
   ],
   "source": [
    "x"
   ]
  },
  {
   "cell_type": "code",
   "execution_count": 41,
   "id": "104bba39-f34b-4c23-87e2-2d75a0ebb7b3",
   "metadata": {},
   "outputs": [
    {
     "data": {
      "text/plain": [
       "16"
      ]
     },
     "execution_count": 41,
     "metadata": {},
     "output_type": "execute_result"
    }
   ],
   "source": [
    "x -= 2\n",
    "x"
   ]
  },
  {
   "cell_type": "code",
   "execution_count": 42,
   "id": "e2b375af-2bc3-436e-845f-29a6d412f4b2",
   "metadata": {},
   "outputs": [
    {
     "data": {
      "text/plain": [
       "14"
      ]
     },
     "execution_count": 42,
     "metadata": {},
     "output_type": "execute_result"
    }
   ],
   "source": [
    "x -= 2\n",
    "x"
   ]
  },
  {
   "cell_type": "code",
   "execution_count": 43,
   "id": "a7601ca5-8e93-4d38-a0f7-06570c9906ad",
   "metadata": {},
   "outputs": [
    {
     "data": {
      "text/plain": [
       "12"
      ]
     },
     "execution_count": 43,
     "metadata": {},
     "output_type": "execute_result"
    }
   ],
   "source": [
    "x -= 2\n",
    "x"
   ]
  },
  {
   "cell_type": "code",
   "execution_count": 44,
   "id": "16bfad2a-7de2-4ba2-b3d3-eec8aa86dea1",
   "metadata": {},
   "outputs": [
    {
     "data": {
      "text/plain": [
       "12"
      ]
     },
     "execution_count": 44,
     "metadata": {},
     "output_type": "execute_result"
    }
   ],
   "source": [
    "x "
   ]
  },
  {
   "cell_type": "code",
   "execution_count": 45,
   "id": "05eb6608-a744-42a5-bed0-35f9190b4413",
   "metadata": {},
   "outputs": [
    {
     "data": {
      "text/plain": [
       "24"
      ]
     },
     "execution_count": 45,
     "metadata": {},
     "output_type": "execute_result"
    }
   ],
   "source": [
    "x *= 2\n",
    "x"
   ]
  },
  {
   "cell_type": "code",
   "execution_count": 46,
   "id": "37e1cce5-7d93-41db-8990-d9f9dfade494",
   "metadata": {},
   "outputs": [
    {
     "data": {
      "text/plain": [
       "48"
      ]
     },
     "execution_count": 46,
     "metadata": {},
     "output_type": "execute_result"
    }
   ],
   "source": [
    "x *= 2\n",
    "x"
   ]
  },
  {
   "cell_type": "code",
   "execution_count": 47,
   "id": "b9b80606-390d-4a2a-9715-57243ebde5df",
   "metadata": {},
   "outputs": [],
   "source": [
    "x /= 2"
   ]
  },
  {
   "cell_type": "code",
   "execution_count": 48,
   "id": "4c58be43-c1f9-4371-9712-d5f7e87394be",
   "metadata": {},
   "outputs": [
    {
     "data": {
      "text/plain": [
       "24.0"
      ]
     },
     "execution_count": 48,
     "metadata": {},
     "output_type": "execute_result"
    }
   ],
   "source": [
    "x"
   ]
  },
  {
   "cell_type": "code",
   "execution_count": 50,
   "id": "a5c33c75-c14c-49ee-87d2-d052a17317a3",
   "metadata": {},
   "outputs": [
    {
     "data": {
      "text/plain": [
       "6.0"
      ]
     },
     "execution_count": 50,
     "metadata": {},
     "output_type": "execute_result"
    }
   ],
   "source": [
    "x /= 2\n",
    "x"
   ]
  },
  {
   "cell_type": "markdown",
   "id": "532cbe54-44e7-4a25-82c4-10dc5f767006",
   "metadata": {},
   "source": [
    "# unary operator "
   ]
  },
  {
   "cell_type": "code",
   "execution_count": 51,
   "id": "7ce7989b-31ef-4777-8af2-80beb66f3378",
   "metadata": {},
   "outputs": [
    {
     "data": {
      "text/plain": [
       "7"
      ]
     },
     "execution_count": 51,
     "metadata": {},
     "output_type": "execute_result"
    }
   ],
   "source": [
    "n = 7\n",
    "n"
   ]
  },
  {
   "cell_type": "code",
   "execution_count": 52,
   "id": "1b0c9590-39fc-4758-a4c1-72ed0dfafb95",
   "metadata": {},
   "outputs": [
    {
     "data": {
      "text/plain": [
       "-7"
      ]
     },
     "execution_count": 52,
     "metadata": {},
     "output_type": "execute_result"
    }
   ],
   "source": [
    "m = -n\n",
    "m"
   ]
  },
  {
   "cell_type": "markdown",
   "id": "469ebd0f-d62d-4cb9-ab93-c8328b48ea2a",
   "metadata": {},
   "source": [
    "# 11th "
   ]
  },
  {
   "cell_type": "code",
   "execution_count": 1,
   "id": "2f70319c-2d78-45b2-954e-e5d0879468d0",
   "metadata": {},
   "outputs": [
    {
     "ename": "NameError",
     "evalue": "name 'nareshit' is not defined",
     "output_type": "error",
     "traceback": [
      "\u001b[1;31m---------------------------------------------------------------------------\u001b[0m",
      "\u001b[1;31mNameError\u001b[0m                                 Traceback (most recent call last)",
      "Cell \u001b[1;32mIn[1], line 1\u001b[0m\n\u001b[1;32m----> 1\u001b[0m nareshit\n",
      "\u001b[1;31mNameError\u001b[0m: name 'nareshit' is not defined"
     ]
    }
   ],
   "source": [
    "nareshit "
   ]
  },
  {
   "cell_type": "code",
   "execution_count": 2,
   "id": "8f3b18b0-ea8e-4adb-a17f-a181ea7d56cc",
   "metadata": {},
   "outputs": [
    {
     "data": {
      "text/plain": [
       "' nareshit '"
      ]
     },
     "execution_count": 2,
     "metadata": {},
     "output_type": "execute_result"
    }
   ],
   "source": [
    "\" nareshit \""
   ]
  },
  {
   "cell_type": "code",
   "execution_count": 3,
   "id": "2437bd3c-6340-488d-984d-a4269decca27",
   "metadata": {},
   "outputs": [
    {
     "data": {
      "text/plain": [
       "'nareshit'"
      ]
     },
     "execution_count": 3,
     "metadata": {},
     "output_type": "execute_result"
    }
   ],
   "source": [
    "s = \"nareshit\"\n",
    "s"
   ]
  },
  {
   "cell_type": "code",
   "execution_count": 4,
   "id": "85230184-f95b-49e1-a8f2-4f711e43bda8",
   "metadata": {},
   "outputs": [
    {
     "data": {
      "text/plain": [
       "8"
      ]
     },
     "execution_count": 4,
     "metadata": {},
     "output_type": "execute_result"
    }
   ],
   "source": [
    "len(s)"
   ]
  },
  {
   "cell_type": "code",
   "execution_count": 5,
   "id": "869b75c5-ddb2-4b44-bbcf-0ec7082f9cbf",
   "metadata": {},
   "outputs": [
    {
     "data": {
      "text/plain": [
       "'nareshit'"
      ]
     },
     "execution_count": 5,
     "metadata": {},
     "output_type": "execute_result"
    }
   ],
   "source": [
    "s"
   ]
  },
  {
   "cell_type": "code",
   "execution_count": 6,
   "id": "fee36ffe-e201-4cb8-b8a3-1064c196742f",
   "metadata": {},
   "outputs": [
    {
     "data": {
      "text/plain": [
       "'n'"
      ]
     },
     "execution_count": 6,
     "metadata": {},
     "output_type": "execute_result"
    }
   ],
   "source": [
    "s[0]"
   ]
  },
  {
   "cell_type": "code",
   "execution_count": 7,
   "id": "8d9ee23e-fad3-4bee-bc3b-f545d0d1b691",
   "metadata": {},
   "outputs": [
    {
     "data": {
      "text/plain": [
       "'a'"
      ]
     },
     "execution_count": 7,
     "metadata": {},
     "output_type": "execute_result"
    }
   ],
   "source": [
    "s[1]"
   ]
  },
  {
   "cell_type": "code",
   "execution_count": 8,
   "id": "1c5aebb5-3a28-46ba-bafb-48e03afbc68c",
   "metadata": {},
   "outputs": [
    {
     "data": {
      "text/plain": [
       "'h'"
      ]
     },
     "execution_count": 8,
     "metadata": {},
     "output_type": "execute_result"
    }
   ],
   "source": [
    "s[5]"
   ]
  },
  {
   "cell_type": "code",
   "execution_count": 9,
   "id": "e1df0999-90b1-489e-ac77-370d50a79a78",
   "metadata": {},
   "outputs": [
    {
     "data": {
      "text/plain": [
       "'nareshit'"
      ]
     },
     "execution_count": 9,
     "metadata": {},
     "output_type": "execute_result"
    }
   ],
   "source": [
    "s"
   ]
  },
  {
   "cell_type": "code",
   "execution_count": 10,
   "id": "531495a4-4acd-4bb9-ada9-eea36e1abbe4",
   "metadata": {},
   "outputs": [
    {
     "name": "stdout",
     "output_type": "stream",
     "text": [
      "n\n",
      "a\n",
      "r\n",
      "e\n",
      "s\n",
      "h\n",
      "i\n",
      "t\n"
     ]
    }
   ],
   "source": [
    "for i in s:\n",
    "    print(i)"
   ]
  },
  {
   "cell_type": "code",
   "execution_count": 11,
   "id": "50c8fadf-162d-4121-b306-7b0bf96c0ca6",
   "metadata": {},
   "outputs": [
    {
     "data": {
      "text/plain": [
       "'nareshit'"
      ]
     },
     "execution_count": 11,
     "metadata": {},
     "output_type": "execute_result"
    }
   ],
   "source": [
    "s"
   ]
  },
  {
   "cell_type": "code",
   "execution_count": 13,
   "id": "d3f358b5-fa25-4b4a-a556-8c1d9d2ee47a",
   "metadata": {},
   "outputs": [
    {
     "data": {
      "text/plain": [
       "8"
      ]
     },
     "execution_count": 13,
     "metadata": {},
     "output_type": "execute_result"
    }
   ],
   "source": [
    "len(s)"
   ]
  },
  {
   "cell_type": "code",
   "execution_count": 14,
   "id": "7a4c2b73-72af-4223-92bc-7d70a88d4c4a",
   "metadata": {},
   "outputs": [
    {
     "data": {
      "text/plain": [
       "'nares'"
      ]
     },
     "execution_count": 14,
     "metadata": {},
     "output_type": "execute_result"
    }
   ],
   "source": [
    "s[0:5]"
   ]
  },
  {
   "cell_type": "code",
   "execution_count": 15,
   "id": "38cc5fa2-1c22-4e86-941a-e3abca4ae71c",
   "metadata": {},
   "outputs": [
    {
     "data": {
      "text/plain": [
       "'nareshit'"
      ]
     },
     "execution_count": 15,
     "metadata": {},
     "output_type": "execute_result"
    }
   ],
   "source": [
    "s"
   ]
  },
  {
   "cell_type": "code",
   "execution_count": 16,
   "id": "97e452b9-a3c3-49a0-8d42-61df912e4f6f",
   "metadata": {},
   "outputs": [
    {
     "data": {
      "text/plain": [
       "'tihseran'"
      ]
     },
     "execution_count": 16,
     "metadata": {},
     "output_type": "execute_result"
    }
   ],
   "source": [
    "s[::-1]"
   ]
  },
  {
   "cell_type": "code",
   "execution_count": null,
   "id": "477bdb0e-233b-4d06-a053-3bcea810c779",
   "metadata": {},
   "outputs": [],
   "source": []
  }
 ],
 "metadata": {
  "kernelspec": {
   "display_name": "Python 3 (ipykernel)",
   "language": "python",
   "name": "python3"
  },
  "language_info": {
   "codemirror_mode": {
    "name": "ipython",
    "version": 3
   },
   "file_extension": ".py",
   "mimetype": "text/x-python",
   "name": "python",
   "nbconvert_exporter": "python",
   "pygments_lexer": "ipython3",
   "version": "3.11.7"
  }
 },
 "nbformat": 4,
 "nbformat_minor": 5
}
